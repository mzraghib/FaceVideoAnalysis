{
 "cells": [
  {
   "cell_type": "markdown",
   "metadata": {},
   "source": [
    "# Chalearn Data Analysis"
   ]
  },
  {
   "cell_type": "code",
   "execution_count": 2,
   "metadata": {
    "collapsed": true
   },
   "outputs": [],
   "source": [
    "from sklearn.model_selection import KFold, cross_val_score, cross_val_predict\n",
    "from sklearn.model_selection import train_test_split\n",
    "from sklearn import svm\n",
    "from sklearn.metrics import confusion_matrix\n",
    "from extract_feat_stage4 import createXY\n",
    "import numpy as np"
   ]
  },
  {
   "cell_type": "markdown",
   "metadata": {},
   "source": [
    "## Import Training Data\n",
    "* Features extracted using a 3D RexNeXt-101 model, pretrained on the Kitenics dataset\n",
    "* Features are provided as a 2048 dimensional vectors for each 16 frame segment of a video. These were concatenated and the mean value was kept, producing a single 2048 dimensional vector for one entire video\n",
    "* Classification is performed for the 'extraversion' label since it has the most datasamples after binarizing at values > 0.5 with 55% of the data samples being positive examples (the rest of the labels has at best 43% positive examples) accross the entire dataset of 6000 videos. \n",
    "* Keeping the student dataset in mind, the dataset was reduced to 960 videos. After reducing the dataset, the percentage of positive examples was 53.5%"
   ]
  },
  {
   "cell_type": "code",
   "execution_count": 3,
   "metadata": {
    "collapsed": false
   },
   "outputs": [
    {
     "name": "stdout",
     "output_type": "stream",
     "text": [
      "loading...\n",
      "X-dim =  2\n",
      "Y-dim =  1\n",
      "960\n",
      "960\n"
     ]
    }
   ],
   "source": [
    "#import features (X) and labels (Y)\n",
    "print('loading...')\n",
    "X, Y = createXY()\n",
    "print('X-dim = ', X.ndim)\n",
    "print('Y-dim = ', Y.ndim)\n",
    "print(len(X))\n",
    "print(len(Y))"
   ]
  },
  {
   "cell_type": "markdown",
   "metadata": {
    "collapsed": true
   },
   "source": [
    "## Training using SVM\n",
    "* Using K fold cross correlation with  K = 5 to get accuracy and normalized confusion matrix"
   ]
  },
  {
   "cell_type": "code",
   "execution_count": 8,
   "metadata": {
    "collapsed": false
   },
   "outputs": [
    {
     "name": "stdout",
     "output_type": "stream",
     "text": [
      "accuracy =  0.64\n"
     ]
    }
   ],
   "source": [
    "k_fold = KFold(n_splits=5)\n",
    "svc = svm.SVC()\n",
    "\n",
    "accuracy = np.mean(cross_val_score(svc, X, Y, cv=k_fold,\n",
    "                 scoring='precision_macro'))\n",
    "print(\"accuracy = \", round(accuracy, 2))\n",
    "\n",
    "y_pred = cross_val_predict(svc, X, Y, cv=k_fold,)\n"
   ]
  },
  {
   "cell_type": "markdown",
   "metadata": {},
   "source": [
    "## Classification report"
   ]
  },
  {
   "cell_type": "code",
   "execution_count": 10,
   "metadata": {
    "collapsed": false
   },
   "outputs": [
    {
     "name": "stdout",
     "output_type": "stream",
     "text": [
      "             precision    recall  f1-score   support\n",
      "\n",
      "          0       0.61      0.59      0.60       446\n",
      "          1       0.66      0.67      0.66       514\n",
      "\n",
      "avg / total       0.64      0.64      0.64       960\n",
      "\n"
     ]
    }
   ],
   "source": [
    "from sklearn.metrics import classification_report\n",
    "print (classification_report(Y,y_pred))"
   ]
  },
  {
   "cell_type": "markdown",
   "metadata": {},
   "source": [
    "## Confusion matrix"
   ]
  },
  {
   "cell_type": "code",
   "execution_count": 29,
   "metadata": {
    "collapsed": false
   },
   "outputs": [
    {
     "name": "stdout",
     "output_type": "stream",
     "text": [
      "[[ 0.27604167  0.18854167]\n",
      " [ 0.175       0.36041667]]\n"
     ]
    }
   ],
   "source": [
    "conf_mat = confusion_matrix(Y,y_pred)\n",
    "conf_mat_norm = conf_mat / len(Y)\n",
    "print (conf_mat_norm)\n",
    "\n"
   ]
  }
 ],
 "metadata": {
  "kernelspec": {
   "display_name": "Python 3",
   "language": "python",
   "name": "python3"
  },
  "language_info": {
   "codemirror_mode": {
    "name": "ipython",
    "version": 3
   },
   "file_extension": ".py",
   "mimetype": "text/x-python",
   "name": "python",
   "nbconvert_exporter": "python",
   "pygments_lexer": "ipython3",
   "version": "3.5.4"
  }
 },
 "nbformat": 4,
 "nbformat_minor": 0
}
