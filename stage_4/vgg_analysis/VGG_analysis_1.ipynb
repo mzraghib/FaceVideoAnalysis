{
 "cells": [
  {
   "cell_type": "markdown",
   "metadata": {},
   "source": [
    "# Chalearn Data Analysis using Features extracted using VGG Face \n",
    "* Features are from the fc6 layer which outputs a 4096-d vector per frame.\n",
    "So its a concatenation of min, max, mean and std of all frames in the \n",
    "input video. (4096x4 = 16384)"
   ]
  },
  {
   "cell_type": "code",
   "execution_count": 1,
   "metadata": {
    "collapsed": true
   },
   "outputs": [],
   "source": [
    "from sklearn.model_selection import KFold, cross_val_score, cross_val_predict\n",
    "from sklearn.model_selection import train_test_split\n",
    "from sklearn import svm\n",
    "from sklearn.metrics import confusion_matrix\n",
    "import numpy as np\n",
    "from sklearn.metrics import classification_report\n",
    "import matplotlib.pyplot as plt\n",
    "import scipy.io as spio\n",
    "import pandas as pd\n",
    "\n",
    "\n",
    "from VGG_analysis_helper import *"
   ]
  },
  {
   "cell_type": "markdown",
   "metadata": {},
   "source": [
    "## 1) Import Data\n"
   ]
  },
  {
   "cell_type": "code",
   "execution_count": 2,
   "metadata": {
    "collapsed": false
   },
   "outputs": [
    {
     "name": "stdout",
     "output_type": "stream",
     "text": [
      "4932\n",
      "4932\n"
     ]
    }
   ],
   "source": [
    "# Train\n",
    "mat = spio.loadmat('VGGFTfeaturesTrain.mat', squeeze_me=True)\n",
    "X_train = pd.DataFrame(mat['Features'])\n",
    "Y_train = pd.DataFrame(createY_train(pd.DataFrame(mat['VideoList'])))\n",
    "\n",
    "# Remove first 1068 features since they are all zeros \n",
    "X_train.drop(X_train.head(1068).index, inplace=True)\n",
    "X_train = X_train.reset_index(drop=True)\n",
    "\n",
    "print(len(X_train))\n",
    "print(len(Y_train))"
   ]
  },
  {
   "cell_type": "code",
   "execution_count": 3,
   "metadata": {
    "collapsed": false
   },
   "outputs": [
    {
     "name": "stdout",
     "output_type": "stream",
     "text": [
      "2000\n",
      "2000\n"
     ]
    }
   ],
   "source": [
    "# Validation\n",
    "mat = spio.loadmat('VGGFTfeaturesValidation.mat', squeeze_me=True)\n",
    "\n",
    "X_valid = pd.DataFrame(mat['Features'])\n",
    "\n",
    "Y_valid = pd.DataFrame(createY_valid(pd.DataFrame(mat['VideoList']) ))\n",
    "print(len(X_valid))\n",
    "print(len(Y_valid))"
   ]
  },
  {
   "cell_type": "code",
   "execution_count": 4,
   "metadata": {
    "collapsed": false
   },
   "outputs": [
    {
     "name": "stdout",
     "output_type": "stream",
     "text": [
      "1840\n",
      "1840\n"
     ]
    }
   ],
   "source": [
    "#Test\n",
    "mat = spio.loadmat('VGGFTfeaturesTest.mat', squeeze_me=True)\n",
    "\n",
    "X_test = pd.DataFrame(mat['Features'])\n",
    "\n",
    "Y_test = pd.DataFrame(createY_test(pd.DataFrame(mat['VideoList']) ))\n",
    "print(len(X_test))\n",
    "print(len(Y_test))"
   ]
  },
  {
   "cell_type": "markdown",
   "metadata": {},
   "source": [
    "## 2) PCA"
   ]
  },
  {
   "cell_type": "code",
   "execution_count": 5,
   "metadata": {
    "collapsed": false
   },
   "outputs": [
    {
     "name": "stdout",
     "output_type": "stream",
     "text": [
      "number of components =  458\n"
     ]
    },
    {
     "data": {
      "image/png": "[encoded data removed]",
      "text/plain": [
       "<matplotlib.figure.Figure at 0x21e1feebd68>"
      ]
     },
     "metadata": {},
     "output_type": "display_data"
    }
   ],
   "source": [
    "from sklearn.decomposition import PCA\n",
    "X_train_pca, X_valid_pca = peform_PCA(X_train, X_valid, 0.85) "
   ]
  },
  {
   "cell_type": "markdown",
   "metadata": {},
   "source": [
    "## 3) Training"
   ]
  },
  {
   "cell_type": "code",
   "execution_count": 6,
   "metadata": {
    "collapsed": true
   },
   "outputs": [],
   "source": [
    "from sklearn.metrics import roc_auc_score, roc_curve\n",
    "\n",
    "# Plot the ROC curve and return AUC\n",
    "def plotROC(y_test, y_pred):    \n",
    "    fpr, tpr, _ = roc_curve(y_test,  y_pred)\n",
    "    auc = roc_auc_score(y_test, y_pred)  # AUC metric\n",
    "    plt.plot(fpr,tpr,label=\"data 1, auc=\"+str(auc))\n",
    "    plt.xlabel('False Positive Rate')\n",
    "    plt.ylabel('True Positive Rate')\n",
    "    plt.legend(loc=4)\n",
    "    plt.plot([0, 1], [0, 1], 'k--')\n",
    "\n",
    "    plt.show()"
   ]
  },
  {
   "cell_type": "markdown",
   "metadata": {},
   "source": [
    "## Random Forest Classifier"
   ]
  },
  {
   "cell_type": "code",
   "execution_count": 7,
   "metadata": {
    "collapsed": false
   },
   "outputs": [
    {
     "data": {
      "text/plain": [
       "'\\nfrom sklearn.ensemble import RandomForestClassifier\\nprint(\"lelo\")\\nregr = RandomForestClassifier(n_estimators=400, min_samples_leaf=50, n_jobs=-1)\\nregr.fit(X_train_pca, Y_train.values.ravel())\\nscore = cross_val_score(regr, X_train_pca, Y_train.values.ravel(), cv=5)\\nprint(score)\\nprint(np.mean(score))\\n'"
      ]
     },
     "execution_count": 7,
     "metadata": {},
     "output_type": "execute_result"
    }
   ],
   "source": [
    "# No PCA, train and valid sets\n",
    "'''\n",
    "from sklearn.ensemble import RandomForestClassifier\n",
    "print(\"lelo\")\n",
    "regr = RandomForestClassifier(n_estimators=400, min_samples_leaf=50, n_jobs=-1)\n",
    "regr.fit(X_train_pca, Y_train.values.ravel())\n",
    "score = cross_val_score(regr, X_train_pca, Y_train.values.ravel(), cv=5)\n",
    "print(score)\n",
    "print(np.mean(score))\n",
    "'''\n",
    "#y_pred_rf = regr.predict_proba(X_valid)[:,1] \n",
    "#plotROC(Y_valid, y_pred_rf)"
   ]
  },
  {
   "cell_type": "markdown",
   "metadata": {},
   "source": [
    "## Multiple models"
   ]
  },
  {
   "cell_type": "code",
   "execution_count": 8,
   "metadata": {
    "collapsed": true
   },
   "outputs": [],
   "source": [
    "import pandas as pd\n",
    "import numpy as np\n",
    "import csv\n",
    "import matplotlib.pyplot as plt\n",
    "from sklearn.metrics import accuracy_score, f1_score, confusion_matrix\n",
    "from sklearn.feature_selection import SelectKBest, SelectPercentile, VarianceThreshold, chi2, f_classif\n",
    "from sklearn.linear_model import LogisticRegression\n",
    "from sklearn.ensemble import AdaBoostClassifier,  GradientBoostingClassifier, RandomForestClassifier\n",
    "from sklearn import tree\n",
    "from sklearn import metrics\n",
    "from sklearn.naive_bayes import BernoulliNB, GaussianNB\n",
    "from sklearn.decomposition import PCA\n",
    "from sklearn.neural_network import MLPClassifier\n",
    "from sklearn.preprocessing import StandardScaler\n",
    "from sklearn.metrics import classification_report\n",
    "from sklearn.metrics import roc_curve, auc\n",
    "from sklearn.model_selection import cross_val_score\n",
    "from sklearn.neighbors import KNeighborsClassifier\n",
    "from sklearn.svm import SVC\n",
    "\n",
    "\n",
    "models_names = ['Logistic Regression',\n",
    "                'Decision Tree',\n",
    "                'Bernoulli Naive Bayes',\n",
    "                'Gaussian Naive Bayes', \n",
    "                'Random Forest',\n",
    "                'Ada Boost',\n",
    "                'Gradient Boosting',\n",
    "                'Neural Network',\n",
    "               'KNeighborsClassifier(n_neighbors=3)']\n",
    "\n",
    "models = [LogisticRegression(),\n",
    "          tree.DecisionTreeClassifier(min_samples_leaf=4),\n",
    "          BernoulliNB(),\n",
    "          GaussianNB(),\n",
    "          RandomForestClassifier(n_estimators=400, min_samples_leaf=4, n_jobs=-1), \n",
    "          AdaBoostClassifier(), \n",
    "          GradientBoostingClassifier(),\n",
    "          MLPClassifier(max_iter = 10000, alpha = 1e-3, hidden_layer_sizes=(100, 100)\n",
    "),\n",
    "          KNeighborsClassifier(n_neighbors=2)]\n",
    "\n",
    "\n",
    "features_names = ['All']\n",
    "\n",
    "features = [(X_train_pca, X_valid_pca)]\n",
    "# Benchmark classifiers\n",
    "def benchmark(clf, train_X, test_X):\n",
    "    Y_train_df = pd.DataFrame(Y_train)\n",
    "    Y_valid_df = pd.DataFrame(Y_valid)\n",
    "\n",
    "    \n",
    "    clf.fit(train_X, Y_train_df.values.ravel())\n",
    "    \n",
    "    pred = clf.predict(test_X)\n",
    "    \n",
    "    score = cross_val_score(clf, test_X, Y_valid_df.values.ravel(), cv=5)\n",
    "    \n",
    "    cm = confusion_matrix(Y_valid_df.values.ravel(),pred)\n",
    "    \n",
    "    fpr, tpr, thresholds = roc_curve(Y_valid_df, pred)\n",
    "    \n",
    "    roc_auc = auc(fpr, tpr)\n",
    "    return roc_auc, np.mean(score)"
   ]
  },
  {
   "cell_type": "code",
   "execution_count": 9,
   "metadata": {
    "collapsed": false
   },
   "outputs": [
    {
     "name": "stdout",
     "output_type": "stream",
     "text": [
      "Training\n",
      "one loop\n",
      "one loop\n",
      "one loop\n",
      "one loop\n",
      "one loop\n",
      "one loop\n",
      "one loop\n",
      "one loop\n",
      "one loop\n",
      "completed\n"
     ]
    },
    {
     "data": {
      "image/png": "[encoded data removed]",
      "text/plain": [
       "<matplotlib.figure.Figure at 0x21e1fd21940>"
      ]
     },
     "metadata": {},
     "output_type": "display_data"
    }
   ],
   "source": [
    "acc_train = {}\n",
    "auc_train = {}\n",
    "print('Training')\n",
    "for clf, name in zip(models, models_names):\n",
    "    for feat, feat_name in zip(features, features_names):\n",
    "        final_n = name + ',' + feat_name\n",
    "        auc_train[final_n], acc_train[final_n] = benchmark(clf, feat[0], feat[1])\n",
    "        print('one loop')\n",
    "print('completed')\n",
    "\n",
    "auc_sort= sorted(auc_train.items(), key=lambda x: x[1], reverse = True)\n",
    "auc_sort = dict(auc_sort[:15])\n",
    "plt.bar(range(len(auc_sort)), auc_sort.values(), align='center')\n",
    "plt.ylabel('Area under ROC curve')\n",
    "plt.xticks(range(len(auc_sort)), list(auc_sort.keys()), rotation='vertical')\n",
    "plt.show()"
   ]
  },
  {
   "cell_type": "code",
   "execution_count": 16,
   "metadata": {
    "collapsed": false
   },
   "outputs": [
    {
     "name": "stdout",
     "output_type": "stream",
     "text": [
      "Iteration 1, loss = 4.82016985\n",
      "Iteration 2, loss = 1.53470178\n",
      "Iteration 3, loss = 1.56099556\n",
      "Iteration 4, loss = 1.53858769\n",
      "Iteration 5, loss = 1.51498713\n",
      "Iteration 6, loss = 1.49371568\n",
      "Iteration 7, loss = 1.47459513\n",
      "Iteration 8, loss = 1.45748232\n",
      "Iteration 9, loss = 1.44075676\n",
      "Iteration 10, loss = 1.42578023\n",
      "Iteration 11, loss = 1.41183781\n",
      "Iteration 12, loss = 1.39794176\n",
      "Iteration 13, loss = 1.38565292\n",
      "Iteration 14, loss = 1.37383812\n",
      "Iteration 15, loss = 1.36252892\n",
      "Iteration 16, loss = 1.35135061\n",
      "Iteration 17, loss = 1.34178162\n",
      "Iteration 18, loss = 1.33155596\n",
      "Iteration 19, loss = 1.32206986\n",
      "Iteration 20, loss = 1.31290231\n",
      "Iteration 21, loss = 1.30422035\n",
      "Iteration 22, loss = 1.29573088\n",
      "Iteration 23, loss = 1.28775568\n",
      "Iteration 24, loss = 1.27992484\n",
      "Iteration 25, loss = 1.27289024\n",
      "Iteration 26, loss = 1.26562638\n",
      "Iteration 27, loss = 1.25879523\n",
      "Iteration 28, loss = 1.25153129\n",
      "Iteration 29, loss = 1.24473366\n",
      "Iteration 30, loss = 1.23916540\n",
      "Iteration 31, loss = 1.23177157\n",
      "Iteration 32, loss = 1.22585140\n",
      "Iteration 33, loss = 1.22010678\n",
      "Iteration 34, loss = 1.21426393\n",
      "Iteration 35, loss = 1.20915045\n",
      "Iteration 36, loss = 1.20333784\n",
      "Iteration 37, loss = 1.19882136\n",
      "Iteration 38, loss = 1.19313221\n",
      "Iteration 39, loss = 1.18766120\n",
      "Iteration 40, loss = 1.18282580\n",
      "Iteration 41, loss = 1.17782018\n",
      "Iteration 42, loss = 1.17381623\n",
      "Iteration 43, loss = 1.16915825\n",
      "Iteration 44, loss = 1.16527024\n",
      "Iteration 45, loss = 1.15952381\n",
      "Iteration 46, loss = 1.15505291\n",
      "Iteration 47, loss = 1.15039888\n",
      "Iteration 48, loss = 1.17604800\n",
      "Iteration 49, loss = 1.16195093\n",
      "Iteration 50, loss = 1.14639922\n",
      "Iteration 51, loss = 1.13727660\n",
      "Iteration 52, loss = 1.13114595\n",
      "Iteration 53, loss = 1.12740245\n",
      "Iteration 54, loss = 1.12398523\n",
      "Iteration 55, loss = 1.11902337\n",
      "Iteration 56, loss = 1.11529598\n",
      "Iteration 57, loss = 1.11158219\n",
      "Iteration 58, loss = 1.10836503\n",
      "Iteration 59, loss = 1.10457845\n",
      "Iteration 60, loss = 1.10120588\n",
      "Iteration 61, loss = 1.09773679\n",
      "Iteration 62, loss = 1.09573026\n",
      "Iteration 63, loss = 1.09235573\n",
      "Iteration 64, loss = 1.08804595\n",
      "Iteration 65, loss = 1.08477746\n",
      "Iteration 66, loss = 1.08128330\n",
      "Iteration 67, loss = 1.07927248\n",
      "Iteration 68, loss = 1.07708809\n",
      "Iteration 69, loss = 1.07273609\n",
      "Iteration 70, loss = 1.07000130\n",
      "Iteration 71, loss = 1.06748899\n",
      "Iteration 72, loss = 1.06418816\n",
      "Iteration 73, loss = 1.06095106\n",
      "Iteration 74, loss = 1.05816500\n",
      "Iteration 75, loss = 1.05506524\n",
      "Iteration 76, loss = 1.05254019\n",
      "Iteration 77, loss = 1.04954229\n",
      "Iteration 78, loss = 1.04720731\n",
      "Iteration 79, loss = 1.04445075\n",
      "Iteration 80, loss = 1.04270245\n",
      "Iteration 81, loss = 1.04007676\n",
      "Iteration 82, loss = 1.03689645\n",
      "Iteration 83, loss = 1.03424825\n",
      "Iteration 84, loss = 1.03144360\n",
      "Iteration 85, loss = 1.02884276\n",
      "Iteration 86, loss = 1.02637887\n",
      "Iteration 87, loss = 1.02427166\n",
      "Iteration 88, loss = 1.02156512\n",
      "Iteration 89, loss = 1.01918007\n",
      "Iteration 90, loss = 1.01731489\n",
      "Iteration 91, loss = 1.01425096\n",
      "Iteration 92, loss = 1.01255091\n",
      "Iteration 93, loss = 1.00985953\n",
      "Iteration 94, loss = 1.00811681\n",
      "Iteration 95, loss = 1.00515744\n",
      "Iteration 96, loss = 1.00401228\n",
      "Iteration 97, loss = 1.00229691\n",
      "Iteration 98, loss = 0.99848826\n",
      "Iteration 99, loss = 0.99650729\n",
      "Iteration 100, loss = 0.99413046\n",
      "Iteration 101, loss = 0.99218773\n",
      "Iteration 102, loss = 0.98968009\n",
      "Iteration 103, loss = 0.98755973\n",
      "Iteration 104, loss = 0.98559439\n",
      "Iteration 105, loss = 0.98333014\n",
      "Iteration 106, loss = 0.98105628\n",
      "Iteration 107, loss = 0.97955698\n",
      "Iteration 108, loss = 0.97697074\n",
      "Iteration 109, loss = 0.97617591\n",
      "Iteration 110, loss = 0.97297076\n",
      "Iteration 111, loss = 0.97199870\n",
      "Iteration 112, loss = 0.96966342\n",
      "Iteration 113, loss = 0.96699132\n",
      "Iteration 114, loss = 0.96530678\n",
      "Iteration 115, loss = 0.96372123\n",
      "Iteration 116, loss = 0.96146916\n",
      "Iteration 117, loss = 0.95921540\n",
      "Iteration 118, loss = 0.95806537\n",
      "Iteration 119, loss = 0.95650926\n",
      "Iteration 120, loss = 0.95452638\n",
      "Iteration 121, loss = 0.95221453\n",
      "Iteration 122, loss = 0.95145703\n",
      "Iteration 123, loss = 0.94867415\n",
      "Iteration 124, loss = 0.94646072\n",
      "Iteration 125, loss = 0.94680551\n",
      "Iteration 126, loss = 0.94380624\n",
      "Iteration 127, loss = 0.94140619\n",
      "Iteration 128, loss = 0.94007320\n",
      "Iteration 129, loss = 0.93915616\n",
      "Iteration 130, loss = 0.93737166\n",
      "Iteration 131, loss = 0.93416489\n",
      "Iteration 132, loss = 0.93214949\n",
      "Iteration 133, loss = 0.93099769\n",
      "Iteration 134, loss = 0.92853900\n",
      "Iteration 135, loss = 0.92706467\n",
      "Iteration 136, loss = 0.92552532\n",
      "Iteration 137, loss = 0.92365585\n",
      "Iteration 138, loss = 0.92181242\n",
      "Iteration 139, loss = 0.92089592\n",
      "Iteration 140, loss = 0.91949517\n",
      "Iteration 141, loss = 0.91825751\n",
      "Iteration 142, loss = 0.91601987\n",
      "Iteration 143, loss = 0.91389627\n",
      "Iteration 144, loss = 0.91303702\n",
      "Iteration 145, loss = 0.91245507\n",
      "Iteration 146, loss = 0.90963448\n",
      "Iteration 147, loss = 0.90808341\n",
      "Iteration 148, loss = 0.90616993\n",
      "Iteration 149, loss = 0.90435966\n",
      "Iteration 150, loss = 0.90382493\n",
      "Iteration 151, loss = 0.90105904\n",
      "Iteration 152, loss = 0.90049196\n",
      "Iteration 153, loss = 0.89877189\n",
      "Iteration 154, loss = 0.89684884\n",
      "Iteration 155, loss = 0.89463861\n",
      "Iteration 156, loss = 0.89300083\n",
      "Iteration 157, loss = 0.89186142\n",
      "Iteration 158, loss = 0.89092665\n",
      "Iteration 159, loss = 0.88878833\n",
      "Iteration 160, loss = 0.88704057\n",
      "Iteration 161, loss = 0.88677431\n",
      "Iteration 162, loss = 0.88396740\n",
      "Iteration 163, loss = 0.88305640\n",
      "Iteration 164, loss = 0.88147893\n",
      "Iteration 165, loss = 0.87963540\n",
      "Iteration 166, loss = 0.87824771\n",
      "Iteration 167, loss = 0.87809471\n",
      "Iteration 168, loss = 0.87624500\n",
      "Iteration 169, loss = 0.87421019\n",
      "Iteration 170, loss = 0.87295638\n",
      "Iteration 171, loss = 0.87171131\n",
      "Iteration 172, loss = 0.87017427\n",
      "Iteration 173, loss = 0.86837945\n",
      "Iteration 174, loss = 0.86738896\n",
      "Iteration 175, loss = 0.86725471\n",
      "Iteration 176, loss = 0.86464591\n",
      "Iteration 177, loss = 0.86247236\n",
      "Iteration 178, loss = 0.86101631\n",
      "Iteration 179, loss = 0.86046053\n",
      "Iteration 180, loss = 0.85982391\n",
      "Iteration 181, loss = 0.85962652\n",
      "Training loss did not improve more than tol=0.001000 for two consecutive epochs. Stopping.\n"
     ]
    },
    {
     "data": {
      "image/png": "[encoded data removed]",
      "text/plain": [
       "<matplotlib.figure.Figure at 0x21e245c6ac8>"
      ]
     },
     "metadata": {},
     "output_type": "display_data"
    }
   ],
   "source": [
    "# Using MLP on Train and test data\n",
    "from sklearn.neural_network import MLPClassifier\n",
    "mlp = MLPClassifier(hidden_layer_sizes=(100, 100), max_iter=10000, alpha=1e-3,\n",
    "                    solver ='adam', verbose=10, tol=1e-3, random_state=1,\n",
    "                    learning_rate_init=.1)\n",
    "\n",
    "mlp.fit(X_train, Y_train.values.ravel())\n",
    "\n",
    "pred = mlp.predict_proba(X_test)[:,1] \n",
    "plotROC(Y_test, pred)"
   ]
  },
  {
   "cell_type": "code",
   "execution_count": 17,
   "metadata": {
    "collapsed": false
   },
   "outputs": [
    {
     "name": "stdout",
     "output_type": "stream",
     "text": [
      "Iteration 1, loss = 4.82016985\n",
      "Iteration 2, loss = 1.53470178\n",
      "Iteration 3, loss = 1.56099556\n",
      "Iteration 4, loss = 1.53858769\n",
      "Iteration 5, loss = 1.51498713\n",
      "Iteration 6, loss = 1.49371568\n",
      "Iteration 7, loss = 1.47459513\n",
      "Iteration 8, loss = 1.45748232\n",
      "Iteration 9, loss = 1.44075676\n",
      "Iteration 10, loss = 1.42578023\n",
      "Iteration 11, loss = 1.41183781\n",
      "Iteration 12, loss = 1.39794176\n",
      "Iteration 13, loss = 1.38565292\n",
      "Iteration 14, loss = 1.37383812\n",
      "Iteration 15, loss = 1.36252892\n",
      "Iteration 16, loss = 1.35135061\n",
      "Iteration 17, loss = 1.34178162\n",
      "Iteration 18, loss = 1.33155596\n",
      "Iteration 19, loss = 1.32206986\n",
      "Iteration 20, loss = 1.31290231\n",
      "Iteration 21, loss = 1.30422035\n",
      "Iteration 22, loss = 1.29573088\n",
      "Iteration 23, loss = 1.28775568\n",
      "Iteration 24, loss = 1.27992484\n",
      "Iteration 25, loss = 1.27289024\n",
      "Iteration 26, loss = 1.26562638\n",
      "Iteration 27, loss = 1.25879523\n",
      "Iteration 28, loss = 1.25153129\n",
      "Iteration 29, loss = 1.24473366\n",
      "Iteration 30, loss = 1.23916540\n",
      "Iteration 31, loss = 1.23177157\n",
      "Iteration 32, loss = 1.22585140\n",
      "Iteration 33, loss = 1.22010678\n",
      "Iteration 34, loss = 1.21426393\n",
      "Iteration 35, loss = 1.20915045\n",
      "Iteration 36, loss = 1.20333784\n",
      "Iteration 37, loss = 1.19882136\n",
      "Iteration 38, loss = 1.19313221\n",
      "Iteration 39, loss = 1.18766120\n",
      "Iteration 40, loss = 1.18282580\n",
      "Iteration 41, loss = 1.17782018\n",
      "Iteration 42, loss = 1.17381623\n",
      "Iteration 43, loss = 1.16915825\n",
      "Iteration 44, loss = 1.16527024\n",
      "Iteration 45, loss = 1.15952381\n",
      "Iteration 46, loss = 1.15505291\n",
      "Iteration 47, loss = 1.15039888\n",
      "Iteration 48, loss = 1.17604800\n",
      "Iteration 49, loss = 1.16195093\n",
      "Iteration 50, loss = 1.14639922\n",
      "Iteration 51, loss = 1.13727660\n",
      "Iteration 52, loss = 1.13114595\n",
      "Iteration 53, loss = 1.12740245\n",
      "Iteration 54, loss = 1.12398523\n",
      "Iteration 55, loss = 1.11902337\n",
      "Iteration 56, loss = 1.11529598\n",
      "Iteration 57, loss = 1.11158219\n",
      "Iteration 58, loss = 1.10836503\n",
      "Iteration 59, loss = 1.10457845\n",
      "Iteration 60, loss = 1.10120588\n",
      "Iteration 61, loss = 1.09773679\n",
      "Iteration 62, loss = 1.09573026\n",
      "Iteration 63, loss = 1.09235573\n",
      "Iteration 64, loss = 1.08804595\n",
      "Iteration 65, loss = 1.08477746\n",
      "Iteration 66, loss = 1.08128330\n",
      "Iteration 67, loss = 1.07927248\n",
      "Iteration 68, loss = 1.07708809\n",
      "Iteration 69, loss = 1.07273609\n",
      "Iteration 70, loss = 1.07000130\n",
      "Iteration 71, loss = 1.06748899\n",
      "Iteration 72, loss = 1.06418816\n",
      "Iteration 73, loss = 1.06095106\n",
      "Iteration 74, loss = 1.05816500\n",
      "Iteration 75, loss = 1.05506524\n",
      "Iteration 76, loss = 1.05254019\n",
      "Iteration 77, loss = 1.04954229\n",
      "Iteration 78, loss = 1.04720731\n",
      "Iteration 79, loss = 1.04445075\n",
      "Iteration 80, loss = 1.04270245\n",
      "Iteration 81, loss = 1.04007676\n",
      "Iteration 82, loss = 1.03689645\n",
      "Iteration 83, loss = 1.03424825\n",
      "Iteration 84, loss = 1.03144360\n",
      "Iteration 85, loss = 1.02884276\n",
      "Iteration 86, loss = 1.02637887\n",
      "Iteration 87, loss = 1.02427166\n",
      "Iteration 88, loss = 1.02156512\n",
      "Iteration 89, loss = 1.01918007\n",
      "Iteration 90, loss = 1.01731489\n",
      "Iteration 91, loss = 1.01425096\n",
      "Iteration 92, loss = 1.01255091\n",
      "Iteration 93, loss = 1.00985953\n",
      "Iteration 94, loss = 1.00811681\n",
      "Iteration 95, loss = 1.00515744\n",
      "Iteration 96, loss = 1.00401228\n",
      "Iteration 97, loss = 1.00229691\n",
      "Iteration 98, loss = 0.99848826\n",
      "Iteration 99, loss = 0.99650729\n",
      "Iteration 100, loss = 0.99413046\n",
      "Iteration 101, loss = 0.99218773\n",
      "Iteration 102, loss = 0.98968009\n",
      "Iteration 103, loss = 0.98755973\n",
      "Iteration 104, loss = 0.98559439\n",
      "Iteration 105, loss = 0.98333014\n",
      "Iteration 106, loss = 0.98105628\n",
      "Iteration 107, loss = 0.97955698\n",
      "Iteration 108, loss = 0.97697074\n",
      "Iteration 109, loss = 0.97617591\n",
      "Iteration 110, loss = 0.97297076\n",
      "Iteration 111, loss = 0.97199870\n",
      "Iteration 112, loss = 0.96966342\n",
      "Iteration 113, loss = 0.96699132\n",
      "Iteration 114, loss = 0.96530678\n",
      "Iteration 115, loss = 0.96372123\n",
      "Iteration 116, loss = 0.96146916\n",
      "Iteration 117, loss = 0.95921540\n",
      "Iteration 118, loss = 0.95806537\n",
      "Iteration 119, loss = 0.95650926\n",
      "Iteration 120, loss = 0.95452638\n",
      "Iteration 121, loss = 0.95221453\n",
      "Iteration 122, loss = 0.95145703\n",
      "Iteration 123, loss = 0.94867415\n",
      "Iteration 124, loss = 0.94646072\n",
      "Iteration 125, loss = 0.94680551\n",
      "Iteration 126, loss = 0.94380624\n",
      "Iteration 127, loss = 0.94140619\n",
      "Iteration 128, loss = 0.94007320\n",
      "Iteration 129, loss = 0.93915616\n",
      "Iteration 130, loss = 0.93737166\n",
      "Iteration 131, loss = 0.93416489\n",
      "Iteration 132, loss = 0.93214949\n",
      "Iteration 133, loss = 0.93099769\n",
      "Iteration 134, loss = 0.92853900\n",
      "Iteration 135, loss = 0.92706467\n",
      "Iteration 136, loss = 0.92552532\n",
      "Iteration 137, loss = 0.92365585\n",
      "Iteration 138, loss = 0.92181242\n",
      "Iteration 139, loss = 0.92089592\n",
      "Iteration 140, loss = 0.91949517\n",
      "Iteration 141, loss = 0.91825751\n",
      "Iteration 142, loss = 0.91601987\n",
      "Iteration 143, loss = 0.91389627\n",
      "Iteration 144, loss = 0.91303702\n",
      "Iteration 145, loss = 0.91245507\n",
      "Iteration 146, loss = 0.90963448\n",
      "Iteration 147, loss = 0.90808341\n",
      "Iteration 148, loss = 0.90616993\n",
      "Iteration 149, loss = 0.90435966\n",
      "Iteration 150, loss = 0.90382493\n",
      "Iteration 151, loss = 0.90105904\n",
      "Iteration 152, loss = 0.90049196\n",
      "Iteration 153, loss = 0.89877189\n",
      "Iteration 154, loss = 0.89684884\n",
      "Iteration 155, loss = 0.89463861\n",
      "Iteration 156, loss = 0.89300083\n",
      "Iteration 157, loss = 0.89186142\n",
      "Iteration 158, loss = 0.89092665\n",
      "Iteration 159, loss = 0.88878833\n",
      "Iteration 160, loss = 0.88704057\n",
      "Iteration 161, loss = 0.88677431\n",
      "Iteration 162, loss = 0.88396740\n",
      "Iteration 163, loss = 0.88305640\n",
      "Iteration 164, loss = 0.88147893\n",
      "Iteration 165, loss = 0.87963540\n",
      "Iteration 166, loss = 0.87824771\n",
      "Iteration 167, loss = 0.87809471\n",
      "Iteration 168, loss = 0.87624500\n",
      "Iteration 169, loss = 0.87421019\n",
      "Iteration 170, loss = 0.87295638\n",
      "Iteration 171, loss = 0.87171131\n",
      "Iteration 172, loss = 0.87017427\n",
      "Iteration 173, loss = 0.86837945\n",
      "Iteration 174, loss = 0.86738896\n",
      "Iteration 175, loss = 0.86725471\n",
      "Iteration 176, loss = 0.86464591\n",
      "Iteration 177, loss = 0.86247236\n",
      "Iteration 178, loss = 0.86101631\n",
      "Iteration 179, loss = 0.86046053\n",
      "Iteration 180, loss = 0.85982391\n",
      "Iteration 181, loss = 0.85962652\n",
      "Training loss did not improve more than tol=0.001000 for two consecutive epochs. Stopping.\n"
     ]
    },
    {
     "data": {
      "image/png": "[encoded data removed]",
      "text/plain": [
       "<matplotlib.figure.Figure at 0x21e36d72e48>"
      ]
     },
     "metadata": {},
     "output_type": "display_data"
    }
   ],
   "source": [
    "# using MLPs on train data only\n",
    "mlp = MLPClassifier(hidden_layer_sizes=(100, 100), max_iter=10000, alpha=1e-3,\n",
    "                    solver ='adam', verbose=10, tol=1e-3, random_state=1,\n",
    "                    learning_rate_init=.1)\n",
    "\n",
    "mlp.fit(X_train, Y_train.values.ravel())\n",
    "\n",
    "pred = mlp.predict_proba(X_train)[:,1] \n",
    "plotROC(Y_train, pred)"
   ]
  },
  {
   "cell_type": "code",
   "execution_count": 18,
   "metadata": {
    "collapsed": false
   },
   "outputs": [
    {
     "name": "stdout",
     "output_type": "stream",
     "text": [
      "Iteration 1, loss = 9.41631475\n",
      "Iteration 2, loss = 4.44501768\n",
      "Iteration 3, loss = 1.45422908\n",
      "Iteration 4, loss = 1.53548908\n",
      "Iteration 5, loss = 1.56776975\n",
      "Iteration 6, loss = 1.57278805\n",
      "Training loss did not improve more than tol=0.001000 for two consecutive epochs. Stopping.\n"
     ]
    },
    {
     "data": {
      "image/png": "[encoded data removed]",
      "text/plain": [
       "<matplotlib.figure.Figure at 0x21e36d29518>"
      ]
     },
     "metadata": {},
     "output_type": "display_data"
    }
   ],
   "source": [
    "# using MLPs on validation data only\n",
    "\n",
    "mlp = MLPClassifier(hidden_layer_sizes=(100, 100), max_iter=10000, alpha=1e-3,\n",
    "                    solver ='adam', verbose=10, tol=1e-3, random_state=1,\n",
    "                    learning_rate_init=.1)\n",
    "\n",
    "mlp.fit(X_valid, Y_valid.values.ravel())\n",
    "\n",
    "pred = mlp.predict_proba(X_valid)[:,1] \n",
    "plotROC(Y_valid, pred)"
   ]
  },
  {
   "cell_type": "code",
   "execution_count": 22,
   "metadata": {
    "collapsed": false
   },
   "outputs": [
    {
     "name": "stdout",
     "output_type": "stream",
     "text": [
      "lelo\n",
      "[ 0.70822943  0.7         0.6425      0.675       0.68170426]\n",
      "0.681486737417\n",
      "[ 0.55116515  0.55724417  0.55217832  0.53346856  0.55837563]\n",
      "0.550486366733\n"
     ]
    }
   ],
   "source": [
    "from sklearn.ensemble import RandomForestClassifier\n",
    "print(\"lelo\")\n",
    "regr = RandomForestClassifier(n_estimators=400, min_samples_leaf=50, n_jobs=-1)\n",
    "regr.fit(X_valid, Y_valid.values.ravel())\n",
    "score = cross_val_score(regr, X_valid, Y_valid.values.ravel(), cv=5)\n",
    "print(score)\n",
    "print(np.mean(score))\n",
    "\n",
    "regr = RandomForestClassifier(n_estimators=400, min_samples_leaf=50, n_jobs=-1)\n",
    "regr.fit(X_train, Y_train.values.ravel())\n",
    "score = cross_val_score(regr, X_train, Y_train.values.ravel(), cv=5)\n",
    "print(score)\n",
    "print(np.mean(score))"
   ]
  },
  {
   "cell_type": "code",
   "execution_count": null,
   "metadata": {
    "collapsed": true
   },
   "outputs": [],
   "source": []
  }
 ],
 "metadata": {
  "kernelspec": {
   "display_name": "Python 3",
   "language": "python",
   "name": "python3"
  },
  "language_info": {
   "codemirror_mode": {
    "name": "ipython",
    "version": 3
   },
   "file_extension": ".py",
   "mimetype": "text/x-python",
   "name": "python",
   "nbconvert_exporter": "python",
   "pygments_lexer": "ipython3",
   "version": "3.5.4"
  }
 },
 "nbformat": 4,
 "nbformat_minor": 0
}
